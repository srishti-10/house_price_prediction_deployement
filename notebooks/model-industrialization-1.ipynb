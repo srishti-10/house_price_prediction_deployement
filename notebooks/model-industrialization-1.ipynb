{
 "cells": [
  {
   "cell_type": "markdown",
   "id": "50fcc882",
   "metadata": {},
   "source": [
    "# House Prices - Advanced Regression Techniques"
   ]
  },
  {
   "cell_type": "code",
   "execution_count": 96,
   "id": "77eb831a",
   "metadata": {},
   "outputs": [],
   "source": [
    "import pandas as pd\n",
    "import numpy as np\n",
    "from sklearn.model_selection import train_test_split\n",
    "from sklearn.preprocessing import StandardScaler, OneHotEncoder\n",
    "from sklearn.linear_model import LinearRegression\n",
    "from sklearn.metrics import mean_squared_log_error\n",
    "import matplotlib.pyplot as plt\n",
    "from tqdm import tqdm\n",
    "import time\n",
    "import os"
   ]
  },
  {
   "cell_type": "markdown",
   "id": "504f0338",
   "metadata": {},
   "source": [
    "**Load the training and test data from CSV files**"
   ]
  },
  {
   "cell_type": "code",
   "execution_count": 97,
   "id": "e6a8d48c",
   "metadata": {},
   "outputs": [],
   "source": [
    "train_df = pd.read_csv(\"../data/train.csv\")\n",
    "test_df = pd.read_csv(\"../data/test.csv\")"
   ]
  },
  {
   "cell_type": "markdown",
   "id": "9ce2995d",
   "metadata": {},
   "source": [
    "--"
   ]
  },
  {
   "cell_type": "markdown",
   "id": "b88952f5",
   "metadata": {},
   "source": [
    "**Display the first 10 rows of the Raw Dataset**"
   ]
  },
  {
   "cell_type": "code",
   "execution_count": 98,
   "id": "94fdb384",
   "metadata": {},
   "outputs": [
    {
     "data": {
      "text/html": [
       "<div>\n",
       "<style scoped>\n",
       "    .dataframe tbody tr th:only-of-type {\n",
       "        vertical-align: middle;\n",
       "    }\n",
       "\n",
       "    .dataframe tbody tr th {\n",
       "        vertical-align: top;\n",
       "    }\n",
       "\n",
       "    .dataframe thead th {\n",
       "        text-align: right;\n",
       "    }\n",
       "</style>\n",
       "<table border=\"1\" class=\"dataframe\">\n",
       "  <thead>\n",
       "    <tr style=\"text-align: right;\">\n",
       "      <th></th>\n",
       "      <th>Id</th>\n",
       "      <th>MSSubClass</th>\n",
       "      <th>MSZoning</th>\n",
       "      <th>LotFrontage</th>\n",
       "      <th>LotArea</th>\n",
       "      <th>Street</th>\n",
       "      <th>Alley</th>\n",
       "      <th>LotShape</th>\n",
       "      <th>LandContour</th>\n",
       "      <th>Utilities</th>\n",
       "      <th>...</th>\n",
       "      <th>PoolArea</th>\n",
       "      <th>PoolQC</th>\n",
       "      <th>Fence</th>\n",
       "      <th>MiscFeature</th>\n",
       "      <th>MiscVal</th>\n",
       "      <th>MoSold</th>\n",
       "      <th>YrSold</th>\n",
       "      <th>SaleType</th>\n",
       "      <th>SaleCondition</th>\n",
       "      <th>SalePrice</th>\n",
       "    </tr>\n",
       "  </thead>\n",
       "  <tbody>\n",
       "    <tr>\n",
       "      <th>0</th>\n",
       "      <td>1</td>\n",
       "      <td>60</td>\n",
       "      <td>RL</td>\n",
       "      <td>65.0</td>\n",
       "      <td>8450</td>\n",
       "      <td>Pave</td>\n",
       "      <td>NaN</td>\n",
       "      <td>Reg</td>\n",
       "      <td>Lvl</td>\n",
       "      <td>AllPub</td>\n",
       "      <td>...</td>\n",
       "      <td>0</td>\n",
       "      <td>NaN</td>\n",
       "      <td>NaN</td>\n",
       "      <td>NaN</td>\n",
       "      <td>0</td>\n",
       "      <td>2</td>\n",
       "      <td>2008</td>\n",
       "      <td>WD</td>\n",
       "      <td>Normal</td>\n",
       "      <td>208500</td>\n",
       "    </tr>\n",
       "    <tr>\n",
       "      <th>1</th>\n",
       "      <td>2</td>\n",
       "      <td>20</td>\n",
       "      <td>RL</td>\n",
       "      <td>80.0</td>\n",
       "      <td>9600</td>\n",
       "      <td>Pave</td>\n",
       "      <td>NaN</td>\n",
       "      <td>Reg</td>\n",
       "      <td>Lvl</td>\n",
       "      <td>AllPub</td>\n",
       "      <td>...</td>\n",
       "      <td>0</td>\n",
       "      <td>NaN</td>\n",
       "      <td>NaN</td>\n",
       "      <td>NaN</td>\n",
       "      <td>0</td>\n",
       "      <td>5</td>\n",
       "      <td>2007</td>\n",
       "      <td>WD</td>\n",
       "      <td>Normal</td>\n",
       "      <td>181500</td>\n",
       "    </tr>\n",
       "    <tr>\n",
       "      <th>2</th>\n",
       "      <td>3</td>\n",
       "      <td>60</td>\n",
       "      <td>RL</td>\n",
       "      <td>68.0</td>\n",
       "      <td>11250</td>\n",
       "      <td>Pave</td>\n",
       "      <td>NaN</td>\n",
       "      <td>IR1</td>\n",
       "      <td>Lvl</td>\n",
       "      <td>AllPub</td>\n",
       "      <td>...</td>\n",
       "      <td>0</td>\n",
       "      <td>NaN</td>\n",
       "      <td>NaN</td>\n",
       "      <td>NaN</td>\n",
       "      <td>0</td>\n",
       "      <td>9</td>\n",
       "      <td>2008</td>\n",
       "      <td>WD</td>\n",
       "      <td>Normal</td>\n",
       "      <td>223500</td>\n",
       "    </tr>\n",
       "    <tr>\n",
       "      <th>3</th>\n",
       "      <td>4</td>\n",
       "      <td>70</td>\n",
       "      <td>RL</td>\n",
       "      <td>60.0</td>\n",
       "      <td>9550</td>\n",
       "      <td>Pave</td>\n",
       "      <td>NaN</td>\n",
       "      <td>IR1</td>\n",
       "      <td>Lvl</td>\n",
       "      <td>AllPub</td>\n",
       "      <td>...</td>\n",
       "      <td>0</td>\n",
       "      <td>NaN</td>\n",
       "      <td>NaN</td>\n",
       "      <td>NaN</td>\n",
       "      <td>0</td>\n",
       "      <td>2</td>\n",
       "      <td>2006</td>\n",
       "      <td>WD</td>\n",
       "      <td>Abnorml</td>\n",
       "      <td>140000</td>\n",
       "    </tr>\n",
       "    <tr>\n",
       "      <th>4</th>\n",
       "      <td>5</td>\n",
       "      <td>60</td>\n",
       "      <td>RL</td>\n",
       "      <td>84.0</td>\n",
       "      <td>14260</td>\n",
       "      <td>Pave</td>\n",
       "      <td>NaN</td>\n",
       "      <td>IR1</td>\n",
       "      <td>Lvl</td>\n",
       "      <td>AllPub</td>\n",
       "      <td>...</td>\n",
       "      <td>0</td>\n",
       "      <td>NaN</td>\n",
       "      <td>NaN</td>\n",
       "      <td>NaN</td>\n",
       "      <td>0</td>\n",
       "      <td>12</td>\n",
       "      <td>2008</td>\n",
       "      <td>WD</td>\n",
       "      <td>Normal</td>\n",
       "      <td>250000</td>\n",
       "    </tr>\n",
       "    <tr>\n",
       "      <th>5</th>\n",
       "      <td>6</td>\n",
       "      <td>50</td>\n",
       "      <td>RL</td>\n",
       "      <td>85.0</td>\n",
       "      <td>14115</td>\n",
       "      <td>Pave</td>\n",
       "      <td>NaN</td>\n",
       "      <td>IR1</td>\n",
       "      <td>Lvl</td>\n",
       "      <td>AllPub</td>\n",
       "      <td>...</td>\n",
       "      <td>0</td>\n",
       "      <td>NaN</td>\n",
       "      <td>MnPrv</td>\n",
       "      <td>Shed</td>\n",
       "      <td>700</td>\n",
       "      <td>10</td>\n",
       "      <td>2009</td>\n",
       "      <td>WD</td>\n",
       "      <td>Normal</td>\n",
       "      <td>143000</td>\n",
       "    </tr>\n",
       "    <tr>\n",
       "      <th>6</th>\n",
       "      <td>7</td>\n",
       "      <td>20</td>\n",
       "      <td>RL</td>\n",
       "      <td>75.0</td>\n",
       "      <td>10084</td>\n",
       "      <td>Pave</td>\n",
       "      <td>NaN</td>\n",
       "      <td>Reg</td>\n",
       "      <td>Lvl</td>\n",
       "      <td>AllPub</td>\n",
       "      <td>...</td>\n",
       "      <td>0</td>\n",
       "      <td>NaN</td>\n",
       "      <td>NaN</td>\n",
       "      <td>NaN</td>\n",
       "      <td>0</td>\n",
       "      <td>8</td>\n",
       "      <td>2007</td>\n",
       "      <td>WD</td>\n",
       "      <td>Normal</td>\n",
       "      <td>307000</td>\n",
       "    </tr>\n",
       "    <tr>\n",
       "      <th>7</th>\n",
       "      <td>8</td>\n",
       "      <td>60</td>\n",
       "      <td>RL</td>\n",
       "      <td>NaN</td>\n",
       "      <td>10382</td>\n",
       "      <td>Pave</td>\n",
       "      <td>NaN</td>\n",
       "      <td>IR1</td>\n",
       "      <td>Lvl</td>\n",
       "      <td>AllPub</td>\n",
       "      <td>...</td>\n",
       "      <td>0</td>\n",
       "      <td>NaN</td>\n",
       "      <td>NaN</td>\n",
       "      <td>Shed</td>\n",
       "      <td>350</td>\n",
       "      <td>11</td>\n",
       "      <td>2009</td>\n",
       "      <td>WD</td>\n",
       "      <td>Normal</td>\n",
       "      <td>200000</td>\n",
       "    </tr>\n",
       "    <tr>\n",
       "      <th>8</th>\n",
       "      <td>9</td>\n",
       "      <td>50</td>\n",
       "      <td>RM</td>\n",
       "      <td>51.0</td>\n",
       "      <td>6120</td>\n",
       "      <td>Pave</td>\n",
       "      <td>NaN</td>\n",
       "      <td>Reg</td>\n",
       "      <td>Lvl</td>\n",
       "      <td>AllPub</td>\n",
       "      <td>...</td>\n",
       "      <td>0</td>\n",
       "      <td>NaN</td>\n",
       "      <td>NaN</td>\n",
       "      <td>NaN</td>\n",
       "      <td>0</td>\n",
       "      <td>4</td>\n",
       "      <td>2008</td>\n",
       "      <td>WD</td>\n",
       "      <td>Abnorml</td>\n",
       "      <td>129900</td>\n",
       "    </tr>\n",
       "    <tr>\n",
       "      <th>9</th>\n",
       "      <td>10</td>\n",
       "      <td>190</td>\n",
       "      <td>RL</td>\n",
       "      <td>50.0</td>\n",
       "      <td>7420</td>\n",
       "      <td>Pave</td>\n",
       "      <td>NaN</td>\n",
       "      <td>Reg</td>\n",
       "      <td>Lvl</td>\n",
       "      <td>AllPub</td>\n",
       "      <td>...</td>\n",
       "      <td>0</td>\n",
       "      <td>NaN</td>\n",
       "      <td>NaN</td>\n",
       "      <td>NaN</td>\n",
       "      <td>0</td>\n",
       "      <td>1</td>\n",
       "      <td>2008</td>\n",
       "      <td>WD</td>\n",
       "      <td>Normal</td>\n",
       "      <td>118000</td>\n",
       "    </tr>\n",
       "  </tbody>\n",
       "</table>\n",
       "<p>10 rows × 81 columns</p>\n",
       "</div>"
      ],
      "text/plain": [
       "   Id  MSSubClass MSZoning  LotFrontage  LotArea Street Alley LotShape  \\\n",
       "0   1          60       RL         65.0     8450   Pave   NaN      Reg   \n",
       "1   2          20       RL         80.0     9600   Pave   NaN      Reg   \n",
       "2   3          60       RL         68.0    11250   Pave   NaN      IR1   \n",
       "3   4          70       RL         60.0     9550   Pave   NaN      IR1   \n",
       "4   5          60       RL         84.0    14260   Pave   NaN      IR1   \n",
       "5   6          50       RL         85.0    14115   Pave   NaN      IR1   \n",
       "6   7          20       RL         75.0    10084   Pave   NaN      Reg   \n",
       "7   8          60       RL          NaN    10382   Pave   NaN      IR1   \n",
       "8   9          50       RM         51.0     6120   Pave   NaN      Reg   \n",
       "9  10         190       RL         50.0     7420   Pave   NaN      Reg   \n",
       "\n",
       "  LandContour Utilities  ... PoolArea PoolQC  Fence MiscFeature MiscVal  \\\n",
       "0         Lvl    AllPub  ...        0    NaN    NaN         NaN       0   \n",
       "1         Lvl    AllPub  ...        0    NaN    NaN         NaN       0   \n",
       "2         Lvl    AllPub  ...        0    NaN    NaN         NaN       0   \n",
       "3         Lvl    AllPub  ...        0    NaN    NaN         NaN       0   \n",
       "4         Lvl    AllPub  ...        0    NaN    NaN         NaN       0   \n",
       "5         Lvl    AllPub  ...        0    NaN  MnPrv        Shed     700   \n",
       "6         Lvl    AllPub  ...        0    NaN    NaN         NaN       0   \n",
       "7         Lvl    AllPub  ...        0    NaN    NaN        Shed     350   \n",
       "8         Lvl    AllPub  ...        0    NaN    NaN         NaN       0   \n",
       "9         Lvl    AllPub  ...        0    NaN    NaN         NaN       0   \n",
       "\n",
       "  MoSold YrSold  SaleType  SaleCondition  SalePrice  \n",
       "0      2   2008        WD         Normal     208500  \n",
       "1      5   2007        WD         Normal     181500  \n",
       "2      9   2008        WD         Normal     223500  \n",
       "3      2   2006        WD        Abnorml     140000  \n",
       "4     12   2008        WD         Normal     250000  \n",
       "5     10   2009        WD         Normal     143000  \n",
       "6      8   2007        WD         Normal     307000  \n",
       "7     11   2009        WD         Normal     200000  \n",
       "8      4   2008        WD        Abnorml     129900  \n",
       "9      1   2008        WD         Normal     118000  \n",
       "\n",
       "[10 rows x 81 columns]"
      ]
     },
     "execution_count": 98,
     "metadata": {},
     "output_type": "execute_result"
    }
   ],
   "source": [
    "train_df.head(10)"
   ]
  },
  {
   "cell_type": "markdown",
   "id": "08d00eb9",
   "metadata": {},
   "source": [
    "--"
   ]
  },
  {
   "cell_type": "markdown",
   "id": "56ab6a0d",
   "metadata": {},
   "source": [
    "**Defining which columns in the dataset will be used as features (input variables) and which one will be the target (output variable).**\n",
    "\n",
    "**Continuous features are numeric and can be scaled (LotArea, GrLivArea), while categorical features are non-numeric and need encoding (MSZoning, HouseStyle) [This encoding is done later on].**"
   ]
  },
  {
   "cell_type": "code",
   "execution_count": 99,
   "id": "bc4ca088",
   "metadata": {},
   "outputs": [],
   "source": [
    "continuous_features = [\"LotArea\", \"GrLivArea\"]\n",
    "categorical_features = [\"MSZoning\", \"HouseStyle\"]\n",
    "target = \"SalePrice\""
   ]
  },
  {
   "cell_type": "markdown",
   "id": "01e3bee5",
   "metadata": {},
   "source": [
    "--"
   ]
  },
  {
   "cell_type": "markdown",
   "id": "55a20676",
   "metadata": {},
   "source": [
    "**Checking Missing information in the Selected Features.**  "
   ]
  },
  {
   "cell_type": "code",
   "execution_count": 100,
   "id": "c05c4177",
   "metadata": {},
   "outputs": [
    {
     "name": "stdout",
     "output_type": "stream",
     "text": [
      "Missing Values in selected columns (Train Data):\n",
      "LotArea       0\n",
      "GrLivArea     0\n",
      "MSZoning      0\n",
      "HouseStyle    0\n",
      "dtype: int64\n"
     ]
    }
   ],
   "source": [
    "print(\"Missing Values in selected columns (Train Data):\")\n",
    "print(train_df[continuous_features + categorical_features].isnull().sum())"
   ]
  },
  {
   "cell_type": "markdown",
   "id": "492e335e",
   "metadata": {},
   "source": [
    "Since no missing values, handling is not required."
   ]
  },
  {
   "cell_type": "markdown",
   "id": "40e22c30",
   "metadata": {},
   "source": [
    "--"
   ]
  },
  {
   "cell_type": "markdown",
   "id": "b3f2f676",
   "metadata": {},
   "source": [
    "**Separate the features (X) and the target (y) in the training set**\n",
    " * Split the data into training and validation sets (ratio for the split is 80:20)"
   ]
  },
  {
   "cell_type": "code",
   "execution_count": 101,
   "id": "1fe12ea7",
   "metadata": {},
   "outputs": [],
   "source": [
    "X = train_df[continuous_features + categorical_features]\n",
    "y = train_df[target]\n",
    "X_train, X_val, y_train, y_val = train_test_split(X, y, test_size=0.2, random_state=42)"
   ]
  },
  {
   "cell_type": "code",
   "execution_count": 102,
   "id": "bc45c18d",
   "metadata": {},
   "outputs": [
    {
     "data": {
      "text/html": [
       "<div>\n",
       "<style scoped>\n",
       "    .dataframe tbody tr th:only-of-type {\n",
       "        vertical-align: middle;\n",
       "    }\n",
       "\n",
       "    .dataframe tbody tr th {\n",
       "        vertical-align: top;\n",
       "    }\n",
       "\n",
       "    .dataframe thead th {\n",
       "        text-align: right;\n",
       "    }\n",
       "</style>\n",
       "<table border=\"1\" class=\"dataframe\">\n",
       "  <thead>\n",
       "    <tr style=\"text-align: right;\">\n",
       "      <th></th>\n",
       "      <th>LotArea</th>\n",
       "      <th>GrLivArea</th>\n",
       "      <th>MSZoning</th>\n",
       "      <th>HouseStyle</th>\n",
       "    </tr>\n",
       "  </thead>\n",
       "  <tbody>\n",
       "    <tr>\n",
       "      <th>254</th>\n",
       "      <td>8400</td>\n",
       "      <td>1314</td>\n",
       "      <td>RL</td>\n",
       "      <td>1Story</td>\n",
       "    </tr>\n",
       "    <tr>\n",
       "      <th>1066</th>\n",
       "      <td>7837</td>\n",
       "      <td>1571</td>\n",
       "      <td>RL</td>\n",
       "      <td>2Story</td>\n",
       "    </tr>\n",
       "    <tr>\n",
       "      <th>638</th>\n",
       "      <td>8777</td>\n",
       "      <td>796</td>\n",
       "      <td>RL</td>\n",
       "      <td>1Story</td>\n",
       "    </tr>\n",
       "    <tr>\n",
       "      <th>799</th>\n",
       "      <td>7200</td>\n",
       "      <td>1768</td>\n",
       "      <td>RL</td>\n",
       "      <td>1.5Fin</td>\n",
       "    </tr>\n",
       "    <tr>\n",
       "      <th>380</th>\n",
       "      <td>5000</td>\n",
       "      <td>1691</td>\n",
       "      <td>RL</td>\n",
       "      <td>1.5Fin</td>\n",
       "    </tr>\n",
       "    <tr>\n",
       "      <th>...</th>\n",
       "      <td>...</td>\n",
       "      <td>...</td>\n",
       "      <td>...</td>\n",
       "      <td>...</td>\n",
       "    </tr>\n",
       "    <tr>\n",
       "      <th>1095</th>\n",
       "      <td>9317</td>\n",
       "      <td>1314</td>\n",
       "      <td>RL</td>\n",
       "      <td>1Story</td>\n",
       "    </tr>\n",
       "    <tr>\n",
       "      <th>1130</th>\n",
       "      <td>7804</td>\n",
       "      <td>1981</td>\n",
       "      <td>RL</td>\n",
       "      <td>1.5Fin</td>\n",
       "    </tr>\n",
       "    <tr>\n",
       "      <th>1294</th>\n",
       "      <td>8172</td>\n",
       "      <td>864</td>\n",
       "      <td>RL</td>\n",
       "      <td>1Story</td>\n",
       "    </tr>\n",
       "    <tr>\n",
       "      <th>860</th>\n",
       "      <td>7642</td>\n",
       "      <td>1426</td>\n",
       "      <td>RL</td>\n",
       "      <td>1.5Fin</td>\n",
       "    </tr>\n",
       "    <tr>\n",
       "      <th>1126</th>\n",
       "      <td>3684</td>\n",
       "      <td>1555</td>\n",
       "      <td>RL</td>\n",
       "      <td>1Story</td>\n",
       "    </tr>\n",
       "  </tbody>\n",
       "</table>\n",
       "<p>1168 rows × 4 columns</p>\n",
       "</div>"
      ],
      "text/plain": [
       "      LotArea  GrLivArea MSZoning HouseStyle\n",
       "254      8400       1314       RL     1Story\n",
       "1066     7837       1571       RL     2Story\n",
       "638      8777        796       RL     1Story\n",
       "799      7200       1768       RL     1.5Fin\n",
       "380      5000       1691       RL     1.5Fin\n",
       "...       ...        ...      ...        ...\n",
       "1095     9317       1314       RL     1Story\n",
       "1130     7804       1981       RL     1.5Fin\n",
       "1294     8172        864       RL     1Story\n",
       "860      7642       1426       RL     1.5Fin\n",
       "1126     3684       1555       RL     1Story\n",
       "\n",
       "[1168 rows x 4 columns]"
      ]
     },
     "execution_count": 102,
     "metadata": {},
     "output_type": "execute_result"
    }
   ],
   "source": [
    "X_train"
   ]
  },
  {
   "cell_type": "code",
   "execution_count": 103,
   "id": "0a7ed9f5",
   "metadata": {},
   "outputs": [
    {
     "data": {
      "text/html": [
       "<div>\n",
       "<style scoped>\n",
       "    .dataframe tbody tr th:only-of-type {\n",
       "        vertical-align: middle;\n",
       "    }\n",
       "\n",
       "    .dataframe tbody tr th {\n",
       "        vertical-align: top;\n",
       "    }\n",
       "\n",
       "    .dataframe thead th {\n",
       "        text-align: right;\n",
       "    }\n",
       "</style>\n",
       "<table border=\"1\" class=\"dataframe\">\n",
       "  <thead>\n",
       "    <tr style=\"text-align: right;\">\n",
       "      <th></th>\n",
       "      <th>LotArea</th>\n",
       "      <th>GrLivArea</th>\n",
       "      <th>MSZoning</th>\n",
       "      <th>HouseStyle</th>\n",
       "    </tr>\n",
       "  </thead>\n",
       "  <tbody>\n",
       "    <tr>\n",
       "      <th>892</th>\n",
       "      <td>8414</td>\n",
       "      <td>1068</td>\n",
       "      <td>RL</td>\n",
       "      <td>1Story</td>\n",
       "    </tr>\n",
       "    <tr>\n",
       "      <th>1105</th>\n",
       "      <td>12256</td>\n",
       "      <td>2622</td>\n",
       "      <td>RL</td>\n",
       "      <td>2Story</td>\n",
       "    </tr>\n",
       "    <tr>\n",
       "      <th>413</th>\n",
       "      <td>8960</td>\n",
       "      <td>1028</td>\n",
       "      <td>RM</td>\n",
       "      <td>1Story</td>\n",
       "    </tr>\n",
       "    <tr>\n",
       "      <th>522</th>\n",
       "      <td>5000</td>\n",
       "      <td>1664</td>\n",
       "      <td>RM</td>\n",
       "      <td>1.5Fin</td>\n",
       "    </tr>\n",
       "    <tr>\n",
       "      <th>1036</th>\n",
       "      <td>12898</td>\n",
       "      <td>1620</td>\n",
       "      <td>RL</td>\n",
       "      <td>1Story</td>\n",
       "    </tr>\n",
       "    <tr>\n",
       "      <th>...</th>\n",
       "      <td>...</td>\n",
       "      <td>...</td>\n",
       "      <td>...</td>\n",
       "      <td>...</td>\n",
       "    </tr>\n",
       "    <tr>\n",
       "      <th>479</th>\n",
       "      <td>5925</td>\n",
       "      <td>1131</td>\n",
       "      <td>RM</td>\n",
       "      <td>1Story</td>\n",
       "    </tr>\n",
       "    <tr>\n",
       "      <th>1361</th>\n",
       "      <td>16158</td>\n",
       "      <td>1530</td>\n",
       "      <td>RL</td>\n",
       "      <td>1Story</td>\n",
       "    </tr>\n",
       "    <tr>\n",
       "      <th>802</th>\n",
       "      <td>8199</td>\n",
       "      <td>1456</td>\n",
       "      <td>RL</td>\n",
       "      <td>2Story</td>\n",
       "    </tr>\n",
       "    <tr>\n",
       "      <th>651</th>\n",
       "      <td>9084</td>\n",
       "      <td>1510</td>\n",
       "      <td>RL</td>\n",
       "      <td>2Story</td>\n",
       "    </tr>\n",
       "    <tr>\n",
       "      <th>722</th>\n",
       "      <td>8120</td>\n",
       "      <td>864</td>\n",
       "      <td>RL</td>\n",
       "      <td>1Story</td>\n",
       "    </tr>\n",
       "  </tbody>\n",
       "</table>\n",
       "<p>292 rows × 4 columns</p>\n",
       "</div>"
      ],
      "text/plain": [
       "      LotArea  GrLivArea MSZoning HouseStyle\n",
       "892      8414       1068       RL     1Story\n",
       "1105    12256       2622       RL     2Story\n",
       "413      8960       1028       RM     1Story\n",
       "522      5000       1664       RM     1.5Fin\n",
       "1036    12898       1620       RL     1Story\n",
       "...       ...        ...      ...        ...\n",
       "479      5925       1131       RM     1Story\n",
       "1361    16158       1530       RL     1Story\n",
       "802      8199       1456       RL     2Story\n",
       "651      9084       1510       RL     2Story\n",
       "722      8120        864       RL     1Story\n",
       "\n",
       "[292 rows x 4 columns]"
      ]
     },
     "execution_count": 103,
     "metadata": {},
     "output_type": "execute_result"
    }
   ],
   "source": [
    "X_val"
   ]
  },
  {
   "cell_type": "markdown",
   "id": "d4cf50c1",
   "metadata": {},
   "source": [
    "--"
   ]
  },
  {
   "cell_type": "markdown",
   "id": "4ed29a1f",
   "metadata": {},
   "source": [
    "**Scale the continuous features**\n",
    "* StandardScaler scales the features to have a mean of 0 and a standard deviation of 1"
   ]
  },
  {
   "cell_type": "code",
   "execution_count": 104,
   "id": "bbac552e",
   "metadata": {},
   "outputs": [],
   "source": [
    "scaler = StandardScaler()\n",
    "X_train_cont = scaler.fit_transform(X_train[continuous_features])\n",
    "X_val_cont = scaler.transform(X_val[continuous_features])\n",
    "X_test_cont = scaler.transform(test_df[continuous_features])"
   ]
  },
  {
   "cell_type": "code",
   "execution_count": 105,
   "id": "209ce6ba",
   "metadata": {},
   "outputs": [
    {
     "data": {
      "text/plain": [
       "array([[-0.21289571, -0.40709315],\n",
       "       [-0.26524463,  0.08317013],\n",
       "       [-0.17784146, -1.39525026],\n",
       "       ...,\n",
       "       [-0.23409563, -1.26553079],\n",
       "       [-0.28337613, -0.19343756],\n",
       "       [-0.65139925,  0.0526479 ]])"
      ]
     },
     "execution_count": 105,
     "metadata": {},
     "output_type": "execute_result"
    }
   ],
   "source": [
    "X_train_cont"
   ]
  },
  {
   "cell_type": "code",
   "execution_count": 106,
   "id": "445b94f6",
   "metadata": {},
   "outputs": [
    {
     "data": {
      "text/plain": [
       "array([[ 0.08669258, -1.20448634],\n",
       "       [ 0.33263021, -0.37847856],\n",
       "       [ 0.29199704,  0.1938132 ],\n",
       "       ...,\n",
       "       [ 0.86569654, -0.57878068],\n",
       "       [-0.02311926, -1.06332104],\n",
       "       [-0.09880669,  0.90154735]])"
      ]
     },
     "execution_count": 106,
     "metadata": {},
     "output_type": "execute_result"
    }
   ],
   "source": [
    "X_test_cont"
   ]
  },
  {
   "cell_type": "markdown",
   "id": "b82969ac",
   "metadata": {},
   "source": [
    "--"
   ]
  },
  {
   "cell_type": "markdown",
   "id": "62d05cec",
   "metadata": {},
   "source": [
    "# Convert categorical variables into numerical form using One-Hot Encoding.\n",
    "* One-hot encoding converts each category into a binary vector.\n",
    "    * drop=\"first\" avoids the dummy variable trap, where having all categories in the model can lead to multicollinearity.\n",
    "    * handle_unknown='ignore' ensures the model doesn't fail if it encounters a previously unseen category during testing."
   ]
  },
  {
   "cell_type": "code",
   "execution_count": 107,
   "id": "1dfd50ff",
   "metadata": {},
   "outputs": [
    {
     "name": "stderr",
     "output_type": "stream",
     "text": [
      "C:\\Users\\Acer\\miniconda3\\envs\\pw1\\lib\\site-packages\\sklearn\\preprocessing\\_encoders.py:170: UserWarning: Found unknown categories in columns [0] during transform. These unknown categories will be encoded as all zeros\n",
      "  warnings.warn(\n"
     ]
    }
   ],
   "source": [
    "encoder = OneHotEncoder(drop=\"first\", sparse=False, handle_unknown='ignore')\n",
    "X_train_cat = encoder.fit_transform(X_train[categorical_features])\n",
    "X_val_cat = encoder.transform(X_val[categorical_features])\n",
    "X_test_cat = encoder.transform(test_df[categorical_features])"
   ]
  },
  {
   "cell_type": "code",
   "execution_count": 108,
   "id": "4ac88e20",
   "metadata": {},
   "outputs": [
    {
     "data": {
      "text/plain": [
       "array([[0., 0., 1., ..., 0., 0., 0.],\n",
       "       [0., 0., 1., ..., 1., 0., 0.],\n",
       "       [0., 0., 1., ..., 0., 0., 0.],\n",
       "       ...,\n",
       "       [0., 0., 1., ..., 0., 0., 0.],\n",
       "       [0., 0., 1., ..., 0., 0., 0.],\n",
       "       [0., 0., 1., ..., 0., 0., 0.]])"
      ]
     },
     "execution_count": 108,
     "metadata": {},
     "output_type": "execute_result"
    }
   ],
   "source": [
    "X_train_cat"
   ]
  },
  {
   "cell_type": "markdown",
   "id": "757d32b5",
   "metadata": {},
   "source": [
    "--"
   ]
  },
  {
   "cell_type": "markdown",
   "id": "d7fedf67",
   "metadata": {},
   "source": [
    "**Combine the scaled continuous features and one-hot encoded categorical features into a single dataset for training.**"
   ]
  },
  {
   "cell_type": "code",
   "execution_count": 109,
   "id": "8b01bfaf",
   "metadata": {},
   "outputs": [],
   "source": [
    "X_train_processed = np.hstack((X_train_cont, X_train_cat))\n",
    "X_val_processed = np.hstack((X_val_cont, X_val_cat))\n",
    "X_test_processed = np.hstack((X_test_cont, X_test_cat))"
   ]
  },
  {
   "cell_type": "code",
   "execution_count": 110,
   "id": "0eebf264",
   "metadata": {},
   "outputs": [
    {
     "data": {
      "text/plain": [
       "array([[-0.21289571, -0.40709315,  0.        , ...,  0.        ,\n",
       "         0.        ,  0.        ],\n",
       "       [-0.26524463,  0.08317013,  0.        , ...,  1.        ,\n",
       "         0.        ,  0.        ],\n",
       "       [-0.17784146, -1.39525026,  0.        , ...,  0.        ,\n",
       "         0.        ,  0.        ],\n",
       "       ...,\n",
       "       [-0.23409563, -1.26553079,  0.        , ...,  0.        ,\n",
       "         0.        ,  0.        ],\n",
       "       [-0.28337613, -0.19343756,  0.        , ...,  0.        ,\n",
       "         0.        ,  0.        ],\n",
       "       [-0.65139925,  0.0526479 ,  0.        , ...,  0.        ,\n",
       "         0.        ,  0.        ]])"
      ]
     },
     "execution_count": 110,
     "metadata": {},
     "output_type": "execute_result"
    }
   ],
   "source": [
    "X_train_processed"
   ]
  },
  {
   "cell_type": "code",
   "execution_count": 111,
   "id": "99710f7c",
   "metadata": {},
   "outputs": [
    {
     "name": "stdout",
     "output_type": "stream",
     "text": [
      "Processed data has been saved to parquet files in the 'data/processed' directory\n"
     ]
    }
   ],
   "source": [
    "os.makedirs('data/processed', exist_ok=True)\n",
    "train_processed.to_parquet('data/processed/train_processed.parquet', engine='fastparquet', compression='GZIP')\n",
    "val_processed.to_parquet('data/processed/val_processed.parquet', engine='fastparquet', compression='GZIP')\n",
    "test_processed.to_parquet('data/processed/test_processed.parquet', engine='fastparquet', compression='GZIP')\n",
    "\n",
    "print(\"Processed data has been saved to parquet files in the 'data/processed' directory\")"
   ]
  },
  {
   "cell_type": "markdown",
   "id": "698e4559",
   "metadata": {},
   "source": [
    "--"
   ]
  },
  {
   "cell_type": "markdown",
   "id": "91abdac9",
   "metadata": {},
   "source": [
    "# Training the model using Gradient Boosting Regressor and track performance using RMSLE"
   ]
  },
  {
   "cell_type": "markdown",
   "id": "867ff2ab",
   "metadata": {},
   "source": [
    "* n_estimators=1 starts with 1 tree, and the number of trees increases as the epochs progress due to warm_start=True. This helps improve performance over time.\n",
    "* we display the performance after every 10 epochs\n",
    "* since the value of the error is decreasing we can infer that model accuracy is increasing."
   ]
  },
  {
   "cell_type": "code",
   "execution_count": 89,
   "id": "3b368b97",
   "metadata": {},
   "outputs": [],
   "source": [
    "epochs = 50  \n",
    "model = GradientBoostingRegressor(n_estimators=1, warm_start=True)  \n",
    "rmsle_scores = []"
   ]
  },
  {
   "cell_type": "code",
   "execution_count": 90,
   "id": "d4f70972",
   "metadata": {},
   "outputs": [
    {
     "name": "stdout",
     "output_type": "stream",
     "text": [
      "Training the model...\n"
     ]
    },
    {
     "name": "stderr",
     "output_type": "stream",
     "text": [
      "Epoch Progress:  22%|█████▋                    | 11/50 [00:01<00:04,  9.19it/s]"
     ]
    },
    {
     "name": "stdout",
     "output_type": "stream",
     "text": [
      "Epoch 10: RMSLE = 0.2991\n"
     ]
    },
    {
     "name": "stderr",
     "output_type": "stream",
     "text": [
      "Epoch Progress:  42%|██████████▉               | 21/50 [00:02<00:03,  9.15it/s]"
     ]
    },
    {
     "name": "stdout",
     "output_type": "stream",
     "text": [
      "Epoch 20: RMSLE = 0.2619\n"
     ]
    },
    {
     "name": "stderr",
     "output_type": "stream",
     "text": [
      "Epoch Progress:  62%|████████████████          | 31/50 [00:03<00:02,  9.21it/s]"
     ]
    },
    {
     "name": "stdout",
     "output_type": "stream",
     "text": [
      "Epoch 30: RMSLE = 0.2486\n"
     ]
    },
    {
     "name": "stderr",
     "output_type": "stream",
     "text": [
      "Epoch Progress:  82%|█████████████████████▎    | 41/50 [00:04<00:00,  9.10it/s]"
     ]
    },
    {
     "name": "stdout",
     "output_type": "stream",
     "text": [
      "Epoch 40: RMSLE = 0.2417\n"
     ]
    },
    {
     "name": "stderr",
     "output_type": "stream",
     "text": [
      "Epoch Progress: 100%|██████████████████████████| 50/50 [00:05<00:00,  9.13it/s]"
     ]
    },
    {
     "name": "stdout",
     "output_type": "stream",
     "text": [
      "Epoch 50: RMSLE = 0.2388\n"
     ]
    },
    {
     "name": "stderr",
     "output_type": "stream",
     "text": [
      "\n"
     ]
    }
   ],
   "source": [
    "print(\"Training the model...\")\n",
    "for epoch in tqdm(range(1, epochs + 1), desc=\"Epoch Progress\"):\n",
    "    model.n_estimators += 1  \n",
    "    model.fit(X_train_processed, y_train)  \n",
    "    time.sleep(0.1) \n",
    "   \n",
    "    if epoch % 10 == 0:\n",
    "        y_pred = model.predict(X_val_processed)\n",
    "        rmsle_score = np.sqrt(mean_squared_log_error(y_val, np.maximum(y_pred, 0)))\n",
    "        rmsle_scores.append(rmsle_score)\n",
    "        print(f\"Epoch {epoch}: RMSLE = {round(rmsle_score, 4)}\")\n"
   ]
  },
  {
   "cell_type": "markdown",
   "id": "0fcf7690",
   "metadata": {},
   "source": [
    "--"
   ]
  },
  {
   "cell_type": "markdown",
   "id": "5461f60e",
   "metadata": {},
   "source": [
    "**Making predictions on the test data and save them to a CSV file.**\n",
    "* The model predicts SalePrice based on the features of the test data, and the results are saved for submission. The np.maximum ensures that the predicted prices are non-negative."
   ]
  },
  {
   "cell_type": "code",
   "execution_count": 91,
   "id": "868fd848",
   "metadata": {},
   "outputs": [],
   "source": [
    "test_predictions = model.predict(X_test_processed)\n",
    "test_predictions = np.maximum(test_predictions, 0)  "
   ]
  },
  {
   "cell_type": "code",
   "execution_count": 92,
   "id": "39ee50e9",
   "metadata": {},
   "outputs": [],
   "source": [
    "submission = pd.DataFrame({\"Id\": test_df[\"Id\"], \"SalePrice\": test_predictions})"
   ]
  },
  {
   "cell_type": "code",
   "execution_count": 93,
   "id": "f7ddc40a",
   "metadata": {},
   "outputs": [
    {
     "data": {
      "text/html": [
       "<div>\n",
       "<style scoped>\n",
       "    .dataframe tbody tr th:only-of-type {\n",
       "        vertical-align: middle;\n",
       "    }\n",
       "\n",
       "    .dataframe tbody tr th {\n",
       "        vertical-align: top;\n",
       "    }\n",
       "\n",
       "    .dataframe thead th {\n",
       "        text-align: right;\n",
       "    }\n",
       "</style>\n",
       "<table border=\"1\" class=\"dataframe\">\n",
       "  <thead>\n",
       "    <tr style=\"text-align: right;\">\n",
       "      <th></th>\n",
       "      <th>Id</th>\n",
       "      <th>SalePrice</th>\n",
       "    </tr>\n",
       "  </thead>\n",
       "  <tbody>\n",
       "    <tr>\n",
       "      <th>0</th>\n",
       "      <td>1461</td>\n",
       "      <td>108976.153737</td>\n",
       "    </tr>\n",
       "    <tr>\n",
       "      <th>1</th>\n",
       "      <td>1462</td>\n",
       "      <td>180765.799770</td>\n",
       "    </tr>\n",
       "    <tr>\n",
       "      <th>2</th>\n",
       "      <td>1463</td>\n",
       "      <td>179294.833234</td>\n",
       "    </tr>\n",
       "    <tr>\n",
       "      <th>3</th>\n",
       "      <td>1464</td>\n",
       "      <td>169685.520285</td>\n",
       "    </tr>\n",
       "    <tr>\n",
       "      <th>4</th>\n",
       "      <td>1465</td>\n",
       "      <td>159761.604170</td>\n",
       "    </tr>\n",
       "    <tr>\n",
       "      <th>...</th>\n",
       "      <td>...</td>\n",
       "      <td>...</td>\n",
       "    </tr>\n",
       "    <tr>\n",
       "      <th>1454</th>\n",
       "      <td>2915</td>\n",
       "      <td>111770.055491</td>\n",
       "    </tr>\n",
       "    <tr>\n",
       "      <th>1455</th>\n",
       "      <td>2916</td>\n",
       "      <td>111770.055491</td>\n",
       "    </tr>\n",
       "    <tr>\n",
       "      <th>1456</th>\n",
       "      <td>2917</td>\n",
       "      <td>159619.740842</td>\n",
       "    </tr>\n",
       "    <tr>\n",
       "      <th>1457</th>\n",
       "      <td>2918</td>\n",
       "      <td>133522.539426</td>\n",
       "    </tr>\n",
       "    <tr>\n",
       "      <th>1458</th>\n",
       "      <td>2919</td>\n",
       "      <td>221108.943902</td>\n",
       "    </tr>\n",
       "  </tbody>\n",
       "</table>\n",
       "<p>1459 rows × 2 columns</p>\n",
       "</div>"
      ],
      "text/plain": [
       "        Id      SalePrice\n",
       "0     1461  108976.153737\n",
       "1     1462  180765.799770\n",
       "2     1463  179294.833234\n",
       "3     1464  169685.520285\n",
       "4     1465  159761.604170\n",
       "...    ...            ...\n",
       "1454  2915  111770.055491\n",
       "1455  2916  111770.055491\n",
       "1456  2917  159619.740842\n",
       "1457  2918  133522.539426\n",
       "1458  2919  221108.943902\n",
       "\n",
       "[1459 rows x 2 columns]"
      ]
     },
     "execution_count": 93,
     "metadata": {},
     "output_type": "execute_result"
    }
   ],
   "source": [
    "submission"
   ]
  },
  {
   "cell_type": "code",
   "execution_count": 94,
   "id": "f1c610a9",
   "metadata": {},
   "outputs": [
    {
     "name": "stdout",
     "output_type": "stream",
     "text": [
      "Predictions saved\n"
     ]
    }
   ],
   "source": [
    "submission.to_csv(\"../data/submission_GradientBoostingRegressor.csv\", index=False)\n",
    "print(\"Predictions saved\")"
   ]
  },
  {
   "cell_type": "markdown",
   "id": "c5c853d2",
   "metadata": {},
   "source": [
    "--"
   ]
  },
  {
   "cell_type": "markdown",
   "id": "48fd2595",
   "metadata": {},
   "source": [
    "# Plot the RMSLE score at every 10th epoch to visualize model performance during training."
   ]
  },
  {
   "cell_type": "code",
   "execution_count": 95,
   "id": "66b3c03c",
   "metadata": {},
   "outputs": [
    {
     "data": {
      "image/png": "[encoded data removed]",
      "text/plain": [
       "<Figure size 576x360 with 1 Axes>"
      ]
     },
     "metadata": {
      "needs_background": "light"
     },
     "output_type": "display_data"
    }
   ],
   "source": [
    "plt.figure(figsize=(8, 5))\n",
    "plt.plot(range(10, epochs+1, 10), rmsle_scores, marker='o', linestyle='-')\n",
    "plt.xlabel(\"Epochs\")\n",
    "plt.ylabel(\"RMSLE Score\")\n",
    "plt.title(\"RMSLE Score over Training Epochs\")\n",
    "plt.grid(True)\n",
    "plt.show()"
   ]
  },
  {
   "cell_type": "code",
   "execution_count": null,
   "id": "a88dcdaa",
   "metadata": {},
   "outputs": [],
   "source": []
  }
 ],
 "metadata": {
  "kernelspec": {
   "display_name": "Python 3 (ipykernel)",
   "language": "python",
   "name": "python3"
  },
  "language_info": {
   "codemirror_mode": {
    "name": "ipython",
    "version": 3
   },
   "file_extension": ".py",
   "mimetype": "text/x-python",
   "name": "python",
   "nbconvert_exporter": "python",
   "pygments_lexer": "ipython3",
   "version": "3.9.12"
  }
 },
 "nbformat": 4,
 "nbformat_minor": 5
}
