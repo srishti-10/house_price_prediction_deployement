{
 "cells": [
  {
   "cell_type": "markdown",
   "metadata": {},
   "source": [
    "# House Price Prediction Model - Industrialization"
   ]
  },
  {
   "cell_type": "code",
   "execution_count": 1,
   "metadata": {},
   "outputs": [],
   "source": [
    "import sys"
   ]
  },
  {
   "cell_type": "code",
   "execution_count": 2,
   "metadata": {},
   "outputs": [
    {
     "data": {
      "text/plain": [
       "['C:\\\\Users\\\\Acer\\\\Desktop\\\\dsp_srishti_binwani_pw2\\\\notebooks',\n",
       " 'C:\\\\Users\\\\Acer\\\\miniconda3\\\\envs\\\\pw1\\\\python39.zip',\n",
       " 'C:\\\\Users\\\\Acer\\\\miniconda3\\\\envs\\\\pw1\\\\DLLs',\n",
       " 'C:\\\\Users\\\\Acer\\\\miniconda3\\\\envs\\\\pw1\\\\lib',\n",
       " 'C:\\\\Users\\\\Acer\\\\miniconda3\\\\envs\\\\pw1',\n",
       " '',\n",
       " 'C:\\\\Users\\\\Acer\\\\miniconda3\\\\envs\\\\pw1\\\\lib\\\\site-packages',\n",
       " 'C:\\\\Users\\\\Acer\\\\miniconda3\\\\envs\\\\pw1\\\\lib\\\\site-packages\\\\win32',\n",
       " 'C:\\\\Users\\\\Acer\\\\miniconda3\\\\envs\\\\pw1\\\\lib\\\\site-packages\\\\win32\\\\lib',\n",
       " 'C:\\\\Users\\\\Acer\\\\miniconda3\\\\envs\\\\pw1\\\\lib\\\\site-packages\\\\Pythonwin']"
      ]
     },
     "execution_count": 2,
     "metadata": {},
     "output_type": "execute_result"
    }
   ],
   "source": [
    "sys.path"
   ]
  },
  {
   "cell_type": "code",
   "execution_count": 3,
   "metadata": {},
   "outputs": [],
   "source": [
    "sys.path.append('..')"
   ]
  },
  {
   "cell_type": "code",
   "execution_count": 4,
   "metadata": {},
   "outputs": [
    {
     "data": {
      "text/plain": [
       "['C:\\\\Users\\\\Acer\\\\Desktop\\\\dsp_srishti_binwani_pw2\\\\notebooks',\n",
       " 'C:\\\\Users\\\\Acer\\\\miniconda3\\\\envs\\\\pw1\\\\python39.zip',\n",
       " 'C:\\\\Users\\\\Acer\\\\miniconda3\\\\envs\\\\pw1\\\\DLLs',\n",
       " 'C:\\\\Users\\\\Acer\\\\miniconda3\\\\envs\\\\pw1\\\\lib',\n",
       " 'C:\\\\Users\\\\Acer\\\\miniconda3\\\\envs\\\\pw1',\n",
       " '',\n",
       " 'C:\\\\Users\\\\Acer\\\\miniconda3\\\\envs\\\\pw1\\\\lib\\\\site-packages',\n",
       " 'C:\\\\Users\\\\Acer\\\\miniconda3\\\\envs\\\\pw1\\\\lib\\\\site-packages\\\\win32',\n",
       " 'C:\\\\Users\\\\Acer\\\\miniconda3\\\\envs\\\\pw1\\\\lib\\\\site-packages\\\\win32\\\\lib',\n",
       " 'C:\\\\Users\\\\Acer\\\\miniconda3\\\\envs\\\\pw1\\\\lib\\\\site-packages\\\\Pythonwin',\n",
       " '..']"
      ]
     },
     "execution_count": 4,
     "metadata": {},
     "output_type": "execute_result"
    }
   ],
   "source": [
    "sys.path"
   ]
  },
  {
   "cell_type": "markdown",
   "metadata": {},
   "source": [
    "## Model Building"
   ]
  },
  {
   "cell_type": "code",
   "execution_count": 7,
   "metadata": {},
   "outputs": [
    {
     "ename": "TypeError",
     "evalue": "__init__() got an unexpected keyword argument 'sparse_output'",
     "output_type": "error",
     "traceback": [
      "\u001b[1;31m---------------------------------------------------------------------------\u001b[0m",
      "\u001b[1;31mTypeError\u001b[0m                                 Traceback (most recent call last)",
      "Input \u001b[1;32mIn [7]\u001b[0m, in \u001b[0;36m<cell line: 5>\u001b[1;34m()\u001b[0m\n\u001b[0;32m      2\u001b[0m \u001b[38;5;28;01mfrom\u001b[39;00m \u001b[38;5;21;01mhouse_prices\u001b[39;00m\u001b[38;5;21;01m.\u001b[39;00m\u001b[38;5;21;01mtrain\u001b[39;00m \u001b[38;5;28;01mimport\u001b[39;00m build_model\n\u001b[0;32m      4\u001b[0m training_df \u001b[38;5;241m=\u001b[39m pd\u001b[38;5;241m.\u001b[39mread_csv(\u001b[38;5;124m'\u001b[39m\u001b[38;5;124m../data/train.csv\u001b[39m\u001b[38;5;124m'\u001b[39m)\n\u001b[1;32m----> 5\u001b[0m model_performance_dict \u001b[38;5;241m=\u001b[39m \u001b[43mbuild_model\u001b[49m\u001b[43m(\u001b[49m\u001b[43mtraining_df\u001b[49m\u001b[43m)\u001b[49m\n\u001b[0;32m      6\u001b[0m \u001b[38;5;28mprint\u001b[39m(model_performance_dict)\n",
      "File \u001b[1;32m~\\Desktop\\dsp_srishti_binwani_pw2\\notebooks\\..\\house_prices\\train.py:62\u001b[0m, in \u001b[0;36mbuild_model\u001b[1;34m(data)\u001b[0m\n\u001b[0;32m     60\u001b[0m \u001b[38;5;66;03m# Preprocess features\u001b[39;00m\n\u001b[0;32m     61\u001b[0m numeric_train \u001b[38;5;241m=\u001b[39m preprocess_numeric_data(X_train, is_training\u001b[38;5;241m=\u001b[39m\u001b[38;5;28;01mTrue\u001b[39;00m)\n\u001b[1;32m---> 62\u001b[0m categorical_train \u001b[38;5;241m=\u001b[39m \u001b[43mpreprocess_categorical_data\u001b[49m\u001b[43m(\u001b[49m\u001b[43mX_train\u001b[49m\u001b[43m,\u001b[49m\u001b[43m \u001b[49m\u001b[43mis_training\u001b[49m\u001b[38;5;241;43m=\u001b[39;49m\u001b[38;5;28;43;01mTrue\u001b[39;49;00m\u001b[43m)\u001b[49m\n\u001b[0;32m     63\u001b[0m X_train_processed \u001b[38;5;241m=\u001b[39m combine_features(numeric_train, categorical_train)\n\u001b[0;32m     65\u001b[0m \u001b[38;5;66;03m# Train model\u001b[39;00m\n",
      "File \u001b[1;32m~\\Desktop\\dsp_srishti_binwani_pw2\\notebooks\\..\\house_prices\\preprocess.py:77\u001b[0m, in \u001b[0;36mpreprocess_categorical_data\u001b[1;34m(data, is_training)\u001b[0m\n\u001b[0;32m     74\u001b[0m categorical_data \u001b[38;5;241m=\u001b[39m categorical_data\u001b[38;5;241m.\u001b[39mfillna(\u001b[38;5;124m'\u001b[39m\u001b[38;5;124mMissing\u001b[39m\u001b[38;5;124m'\u001b[39m)\n\u001b[0;32m     76\u001b[0m \u001b[38;5;28;01mif\u001b[39;00m is_training:\n\u001b[1;32m---> 77\u001b[0m     encoder \u001b[38;5;241m=\u001b[39m \u001b[43mOneHotEncoder\u001b[49m\u001b[43m(\u001b[49m\u001b[43msparse_output\u001b[49m\u001b[38;5;241;43m=\u001b[39;49m\u001b[38;5;28;43;01mFalse\u001b[39;49;00m\u001b[43m,\u001b[49m\u001b[43m \u001b[49m\u001b[43mhandle_unknown\u001b[49m\u001b[38;5;241;43m=\u001b[39;49m\u001b[38;5;124;43m'\u001b[39;49m\u001b[38;5;124;43mignore\u001b[39;49m\u001b[38;5;124;43m'\u001b[39;49m\u001b[43m)\u001b[49m\n\u001b[0;32m     78\u001b[0m     encoded_data \u001b[38;5;241m=\u001b[39m encoder\u001b[38;5;241m.\u001b[39mfit_transform(categorical_data)\n\u001b[0;32m     79\u001b[0m     joblib\u001b[38;5;241m.\u001b[39mdump(encoder, \u001b[38;5;124mf\u001b[39m\u001b[38;5;124m'\u001b[39m\u001b[38;5;132;01m{\u001b[39;00mMODELS_DIR\u001b[38;5;132;01m}\u001b[39;00m\u001b[38;5;124m/encoder.joblib\u001b[39m\u001b[38;5;124m'\u001b[39m)\n",
      "\u001b[1;31mTypeError\u001b[0m: __init__() got an unexpected keyword argument 'sparse_output'"
     ]
    }
   ],
   "source": [
    "import pandas as pd\n",
    "from house_prices.train import build_model\n",
    "\n",
    "training_df = pd.read_csv('../data/train.csv')\n",
    "model_performance_dict = build_model(training_df)\n",
    "print(model_performance_dict)"
   ]
  },
  {
   "cell_type": "markdown",
   "metadata": {},
   "source": [
    "## Model Inference"
   ]
  },
  {
   "cell_type": "code",
   "execution_count": null,
   "metadata": {},
   "outputs": [],
   "source": [
    "from house_prices.inference import make_predictions\n",
    "\n",
    "inference_df = pd.read_csv('../data/test.csv')\n",
    "predictions = make_predictions(inference_df)\n",
    "predictions"
   ]
  }
 ],
 "metadata": {
  "kernelspec": {
   "display_name": "Python 3 (ipykernel)",
   "language": "python",
   "name": "python3"
  },
  "language_info": {
   "codemirror_mode": {
    "name": "ipython",
    "version": 3
   },
   "file_extension": ".py",
   "mimetype": "text/x-python",
   "name": "python",
   "nbconvert_exporter": "python",
   "pygments_lexer": "ipython3",
   "version": "3.9.12"
  }
 },
 "nbformat": 4,
 "nbformat_minor": 4
}
