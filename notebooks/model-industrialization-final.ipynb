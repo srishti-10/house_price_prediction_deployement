{
 "cells": [
  {
   "cell_type": "markdown",
   "metadata": {},
   "source": [
    "# House Price Prediction Model - Industrialization"
   ]
  },
  {
   "cell_type": "code",
   "execution_count": 1,
   "metadata": {},
   "outputs": [],
   "source": [
    "import sys"
   ]
  },
  {
   "cell_type": "code",
   "execution_count": 2,
   "metadata": {},
   "outputs": [
    {
     "data": {
      "text/plain": [
       "['C:\\\\Users\\\\Acer\\\\Desktop\\\\dsp_srishti_binwani_pw2\\\\notebooks',\n",
       " 'C:\\\\Users\\\\Acer\\\\miniconda3\\\\envs\\\\pw1\\\\python39.zip',\n",
       " 'C:\\\\Users\\\\Acer\\\\miniconda3\\\\envs\\\\pw1\\\\DLLs',\n",
       " 'C:\\\\Users\\\\Acer\\\\miniconda3\\\\envs\\\\pw1\\\\lib',\n",
       " 'C:\\\\Users\\\\Acer\\\\miniconda3\\\\envs\\\\pw1',\n",
       " '',\n",
       " 'C:\\\\Users\\\\Acer\\\\miniconda3\\\\envs\\\\pw1\\\\lib\\\\site-packages',\n",
       " 'C:\\\\Users\\\\Acer\\\\miniconda3\\\\envs\\\\pw1\\\\lib\\\\site-packages\\\\win32',\n",
       " 'C:\\\\Users\\\\Acer\\\\miniconda3\\\\envs\\\\pw1\\\\lib\\\\site-packages\\\\win32\\\\lib',\n",
       " 'C:\\\\Users\\\\Acer\\\\miniconda3\\\\envs\\\\pw1\\\\lib\\\\site-packages\\\\Pythonwin']"
      ]
     },
     "execution_count": 2,
     "metadata": {},
     "output_type": "execute_result"
    }
   ],
   "source": [
    "sys.path"
   ]
  },
  {
   "cell_type": "code",
   "execution_count": 3,
   "metadata": {},
   "outputs": [],
   "source": [
    "sys.path.append('..')"
   ]
  },
  {
   "cell_type": "code",
   "execution_count": 4,
   "metadata": {},
   "outputs": [
    {
     "data": {
      "text/plain": [
       "['C:\\\\Users\\\\Acer\\\\Desktop\\\\dsp_srishti_binwani_pw2\\\\notebooks',\n",
       " 'C:\\\\Users\\\\Acer\\\\miniconda3\\\\envs\\\\pw1\\\\python39.zip',\n",
       " 'C:\\\\Users\\\\Acer\\\\miniconda3\\\\envs\\\\pw1\\\\DLLs',\n",
       " 'C:\\\\Users\\\\Acer\\\\miniconda3\\\\envs\\\\pw1\\\\lib',\n",
       " 'C:\\\\Users\\\\Acer\\\\miniconda3\\\\envs\\\\pw1',\n",
       " '',\n",
       " 'C:\\\\Users\\\\Acer\\\\miniconda3\\\\envs\\\\pw1\\\\lib\\\\site-packages',\n",
       " 'C:\\\\Users\\\\Acer\\\\miniconda3\\\\envs\\\\pw1\\\\lib\\\\site-packages\\\\win32',\n",
       " 'C:\\\\Users\\\\Acer\\\\miniconda3\\\\envs\\\\pw1\\\\lib\\\\site-packages\\\\win32\\\\lib',\n",
       " 'C:\\\\Users\\\\Acer\\\\miniconda3\\\\envs\\\\pw1\\\\lib\\\\site-packages\\\\Pythonwin',\n",
       " '..']"
      ]
     },
     "execution_count": 4,
     "metadata": {},
     "output_type": "execute_result"
    }
   ],
   "source": [
    "sys.path"
   ]
  },
  {
   "cell_type": "markdown",
   "metadata": {},
   "source": [
    "## Model Building"
   ]
  },
  {
   "cell_type": "code",
   "execution_count": 5,
   "metadata": {},
   "outputs": [
    {
     "name": "stderr",
     "output_type": "stream",
     "text": [
      "C:\\Users\\Acer\\miniconda3\\envs\\pw1\\lib\\site-packages\\sklearn\\preprocessing\\_encoders.py:170: UserWarning: Found unknown categories in columns [15, 30] during transform. These unknown categories will be encoded as all zeros\n",
      "  warnings.warn(\n"
     ]
    },
    {
     "name": "stdout",
     "output_type": "stream",
     "text": [
      "{'train_r2': 0.9772440390095041, 'val_r2': 0.8837131914740187}\n"
     ]
    }
   ],
   "source": [
    "import pandas as pd\n",
    "from house_prices.train import build_model\n",
    "\n",
    "training_df = pd.read_csv('../data/train.csv')\n",
    "model_performance_dict = build_model(training_df)\n",
    "print(model_performance_dict)"
   ]
  },
  {
   "cell_type": "markdown",
   "metadata": {},
   "source": [
    "## Model Inference"
   ]
  },
  {
   "cell_type": "code",
   "execution_count": 6,
   "metadata": {},
   "outputs": [
    {
     "name": "stderr",
     "output_type": "stream",
     "text": [
      "C:\\Users\\Acer\\miniconda3\\envs\\pw1\\lib\\site-packages\\sklearn\\preprocessing\\_encoders.py:170: UserWarning: Found unknown categories in columns [0, 1, 6, 16, 17, 31, 32, 42] during transform. These unknown categories will be encoded as all zeros\n",
      "  warnings.warn(\n"
     ]
    },
    {
     "data": {
      "text/plain": [
       "array([124937.5 , 157908.75, 190607.8 , ..., 154189.87, 120459.5 ,\n",
       "       241544.61])"
      ]
     },
     "execution_count": 6,
     "metadata": {},
     "output_type": "execute_result"
    }
   ],
   "source": [
    "from house_prices.inference import make_predictions\n",
    "\n",
    "inference_df = pd.read_csv('../data/test.csv')\n",
    "predictions = make_predictions(inference_df)\n",
    "predictions"
   ]
  },
  {
   "cell_type": "markdown",
   "metadata": {},
   "source": [
    "# Use of the package created"
   ]
  },
  {
   "cell_type": "code",
   "execution_count": null,
   "metadata": {},
   "outputs": [
    {
     "name": "stderr",
     "output_type": "stream",
     "text": [
      "C:\\Users\\Acer\\miniconda3\\envs\\pw1\\lib\\site-packages\\sklearn\\preprocessing\\_encoders.py:170: UserWarning: Found unknown categories in columns [15, 30] during transform. These unknown categories will be encoded as all zeros\n",
      "  warnings.warn(\n"
     ]
    },
    {
     "name": "stdout",
     "output_type": "stream",
     "text": [
      "Training metrics: {'train_r2': 0.9772440390095041, 'val_r2': 0.8837131914740187}\n"
     ]
    },
    {
     "name": "stderr",
     "output_type": "stream",
     "text": [
      "C:\\Users\\Acer\\miniconda3\\envs\\pw1\\lib\\site-packages\\sklearn\\preprocessing\\_encoders.py:170: UserWarning: Found unknown categories in columns [0, 1, 6, 16, 17, 31, 32, 42] during transform. These unknown categories will be encoded as all zeros\n",
      "  warnings.warn(\n"
     ]
    },
    {
     "data": {
      "text/plain": [
       "array([124937.5 , 157908.75, 190607.8 , ..., 154189.87, 120459.5 ,\n",
       "       241544.61])"
      ]
     },
     "execution_count": 11,
     "metadata": {},
     "output_type": "execute_result"
    }
   ],
   "source": [
    "import pandas as pd\n",
    "from house_prices import train, inference\n",
    "\n",
    "# Load your training data\n",
    "train_data = pd.read_csv('../data/train.csv')\n",
    "\n",
    "# Train the model\n",
    "model_metrics = train.build_model(train_data)\n",
    "print(\"Training metrics:\", model_metrics)\n",
    "\n",
    "# For predictions\n",
    "test_data = pd.read_csv('../data/test.csv')\n",
    "predictions = inference.make_predictions(test_data)\n",
    "predictions"
   ]
  },
  {
   "cell_type": "code",
   "execution_count": null,
   "metadata": {},
   "outputs": [],
   "source": []
  }
 ],
 "metadata": {
  "kernelspec": {
   "display_name": "Python 3 (ipykernel)",
   "language": "python",
   "name": "python3"
  },
  "language_info": {
   "codemirror_mode": {
    "name": "ipython",
    "version": 3
   },
   "file_extension": ".py",
   "mimetype": "text/x-python",
   "name": "python",
   "nbconvert_exporter": "python",
   "pygments_lexer": "ipython3",
   "version": "3.9.12"
  }
 },
 "nbformat": 4,
 "nbformat_minor": 4
}
