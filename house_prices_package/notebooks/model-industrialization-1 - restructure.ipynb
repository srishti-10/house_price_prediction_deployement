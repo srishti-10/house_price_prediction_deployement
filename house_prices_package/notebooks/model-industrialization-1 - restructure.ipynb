{
 "cells": [
  {
   "cell_type": "markdown",
   "id": "50fcc882",
   "metadata": {},
   "source": [
    "# House Prices - Advanced Regression Techniques"
   ]
  },
  {
   "cell_type": "code",
   "execution_count": 16,
   "id": "77eb831a",
   "metadata": {},
   "outputs": [],
   "source": [
    "import pandas as pd\n",
    "import numpy as np\n",
    "from sklearn.model_selection import train_test_split\n",
    "from sklearn.preprocessing import StandardScaler, OneHotEncoder\n",
    "from sklearn.linear_model import LinearRegression\n",
    "from sklearn.metrics import mean_squared_log_error\n",
    "import matplotlib.pyplot as plt\n",
    "from tqdm import tqdm\n",
    "import time\n",
    "import os\n",
    "from sklearn.ensemble import GradientBoostingRegressor\n",
    "import joblib"
   ]
  },
  {
   "cell_type": "code",
   "execution_count": 17,
   "id": "e6a8d48c",
   "metadata": {},
   "outputs": [],
   "source": [
    "# Create directories for saving models and processed data\n",
    "os.makedirs('models', exist_ok=True)\n",
    "os.makedirs('data/processed', exist_ok=True)\n"
   ]
  },
  {
   "cell_type": "markdown",
   "id": "9ce2995d",
   "metadata": {},
   "source": [
    "--"
   ]
  },
  {
   "cell_type": "code",
   "execution_count": 18,
   "id": "94fdb384",
   "metadata": {},
   "outputs": [],
   "source": [
    "# 1. Data Loading and Initial Splitting\n",
    "def load_and_split_data():\n",
    "    \"\"\"Load data and split into train and test sets\"\"\"\n",
    "    train_df = pd.read_csv(\"../data/train.csv\")\n",
    "    test_df = pd.read_csv(\"../data/test.csv\")\n",
    "    \n",
    "    # Define features\n",
    "    continuous_features = [\"LotArea\", \"GrLivArea\"]\n",
    "    categorical_features = [\"MSZoning\", \"HouseStyle\"]\n",
    "    target = \"SalePrice\"\n",
    "    \n",
    "    # Split features and target\n",
    "    X = train_df[continuous_features + categorical_features]\n",
    "    y = train_df[target]\n",
    "    \n",
    "    # Split the data\n",
    "    X_train, X_test, y_train, y_test = train_test_split(X, y, test_size=0.2, random_state=42)\n",
    "    \n",
    "    return X_train, X_test, y_train, y_test, test_df, continuous_features, categorical_features, target\n"
   ]
  },
  {
   "cell_type": "markdown",
   "id": "08d00eb9",
   "metadata": {},
   "source": [
    "--"
   ]
  },
  {
   "cell_type": "code",
   "execution_count": 19,
   "id": "bc4ca088",
   "metadata": {},
   "outputs": [],
   "source": [
    "# 2. Preprocessing Functions\n",
    "def fit_preprocessors(X_train, continuous_features, categorical_features):\n",
    "    \"\"\"Fit the preprocessors on training data\"\"\"\n",
    "    # Fit scaler for continuous features\n",
    "    scaler = StandardScaler()\n",
    "    scaler.fit(X_train[continuous_features])\n",
    "    \n",
    "    # Fit encoder for categorical features\n",
    "    encoder = OneHotEncoder(drop=\"first\", sparse=False, handle_unknown='ignore')\n",
    "    encoder.fit(X_train[categorical_features])\n",
    "    \n",
    "    return scaler, encoder\n"
   ]
  },
  {
   "cell_type": "markdown",
   "id": "01e3bee5",
   "metadata": {},
   "source": [
    "--"
   ]
  },
  {
   "cell_type": "code",
   "execution_count": 20,
   "id": "c05c4177",
   "metadata": {},
   "outputs": [],
   "source": [
    "def transform_data(X, scaler, encoder, continuous_features, categorical_features):\n",
    "    \"\"\"Transform data using fitted preprocessors\"\"\"\n",
    "    # Transform continuous features\n",
    "    X_cont = scaler.transform(X[continuous_features])\n",
    "    \n",
    "    # Transform categorical features\n",
    "    X_cat = encoder.transform(X[categorical_features])\n",
    "    \n",
    "    # Combine features\n",
    "    X_processed = np.hstack((X_cont, X_cat))\n",
    "    \n",
    "    # Create column names\n",
    "    continuous_cols = [f\"{feat}_scaled\" for feat in continuous_features]\n",
    "    categorical_cols = encoder.get_feature_names_out(categorical_features)\n",
    "    all_columns = continuous_cols + list(categorical_cols)\n",
    "    \n",
    "    # Create DataFrame\n",
    "    X_processed_df = pd.DataFrame(X_processed, columns=all_columns)\n",
    "    \n",
    "    return X_processed_df"
   ]
  },
  {
   "cell_type": "markdown",
   "id": "40e22c30",
   "metadata": {},
   "source": [
    "--"
   ]
  },
  {
   "cell_type": "code",
   "execution_count": 21,
   "id": "1fe12ea7",
   "metadata": {},
   "outputs": [],
   "source": [
    "# 3. Model Building Section\n",
    "def train_model(X_train_processed, y_train):\n",
    "    \"\"\"Train the model\"\"\"\n",
    "    model = GradientBoostingRegressor(n_estimators=1, warm_start=True)\n",
    "    model.fit(X_train_processed, y_train)\n",
    "    return model\n",
    "\n",
    "def evaluate_model(model, X_test_processed, y_test):\n",
    "    \"\"\"Evaluate the model\"\"\"\n",
    "    y_pred = model.predict(X_test_processed)\n",
    "    rmsle = np.sqrt(mean_squared_log_error(y_test, np.maximum(y_pred, 0)))\n",
    "    return rmsle"
   ]
  },
  {
   "cell_type": "code",
   "execution_count": 22,
   "id": "bc45c18d",
   "metadata": {},
   "outputs": [],
   "source": [
    "# 4. Model Inference Section\n",
    "def predict_new_data(model, X_new_processed):\n",
    "    \"\"\"Make predictions on new data\"\"\"\n",
    "    predictions = model.predict(X_new_processed)\n",
    "    return predictions\n"
   ]
  },
  {
   "cell_type": "code",
   "execution_count": 23,
   "id": "0a7ed9f5",
   "metadata": {},
   "outputs": [
    {
     "name": "stdout",
     "output_type": "stream",
     "text": [
      "Model RMSLE on test set: 0.4233\n",
      "Submission file has been created at 'data/processed/submission.csv'\n"
     ]
    },
    {
     "name": "stderr",
     "output_type": "stream",
     "text": [
      "C:\\Users\\Acer\\miniconda3\\envs\\pw1\\lib\\site-packages\\sklearn\\preprocessing\\_encoders.py:170: UserWarning: Found unknown categories in columns [0] during transform. These unknown categories will be encoded as all zeros\n",
      "  warnings.warn(\n"
     ]
    }
   ],
   "source": [
    "# Main execution\n",
    "if __name__ == \"__main__\":\n",
    "    # 1. Load and split data\n",
    "    X_train, X_test, y_train, y_test, test_df, continuous_features, categorical_features, target = load_and_split_data()\n",
    "    \n",
    "    # 2. Fit preprocessors on training data\n",
    "    scaler, encoder = fit_preprocessors(X_train, continuous_features, categorical_features)\n",
    "    \n",
    "    # Save preprocessors\n",
    "    joblib.dump(scaler, 'models/scaler.joblib')\n",
    "    joblib.dump(encoder, 'models/encoder.joblib')\n",
    "    \n",
    "    # 3. Transform training data\n",
    "    X_train_processed = transform_data(X_train, scaler, encoder, continuous_features, categorical_features)\n",
    "    \n",
    "    # 4. Train model\n",
    "    model = train_model(X_train_processed, y_train)\n",
    "    \n",
    "    # Save model\n",
    "    joblib.dump(model, 'models/model.joblib')\n",
    "    \n",
    "    # 5. Transform test data\n",
    "    X_test_processed = transform_data(X_test, scaler, encoder, continuous_features, categorical_features)\n",
    "    \n",
    "    # 6. Evaluate model\n",
    "    rmsle = evaluate_model(model, X_test_processed, y_test)\n",
    "    print(f\"Model RMSLE on test set: {rmsle:.4f}\")\n",
    "    \n",
    "    # 7. Model Inference\n",
    "    # Transform new data (test.csv)\n",
    "    X_new_processed = transform_data(test_df, scaler, encoder, continuous_features, categorical_features)\n",
    "    \n",
    "    # Make predictions\n",
    "    predictions = predict_new_data(model, X_new_processed)\n",
    "    \n",
    "    # Create submission file\n",
    "    submission = pd.DataFrame({\n",
    "        'Id': test_df['Id'],\n",
    "        'SalePrice': predictions\n",
    "    })\n",
    "    submission.to_csv('data/processed/submission.csv', index=False)\n",
    "    \n",
    "    print(\"Submission file has been created at 'data/processed/submission.csv'\")"
   ]
  },
  {
   "cell_type": "markdown",
   "id": "d4cf50c1",
   "metadata": {},
   "source": [
    "--"
   ]
  },
  {
   "cell_type": "code",
   "execution_count": 24,
   "id": "e8507374",
   "metadata": {},
   "outputs": [],
   "source": [
    "os.makedirs('models', exist_ok=True)\n",
    "os.makedirs('data/processed', exist_ok=True)"
   ]
  },
  {
   "cell_type": "code",
   "execution_count": 25,
   "id": "4acd9ea1",
   "metadata": {},
   "outputs": [],
   "source": [
    "X_train, X_test, y_train, y_test, test_df, continuous_features, categorical_features, target = load_and_split_data()"
   ]
  },
  {
   "cell_type": "code",
   "execution_count": 26,
   "id": "78a7a09a",
   "metadata": {},
   "outputs": [],
   "source": [
    "scaler, encoder = fit_preprocessors(X_train, continuous_features, categorical_features)"
   ]
  },
  {
   "cell_type": "code",
   "execution_count": 27,
   "id": "d064c0ee",
   "metadata": {},
   "outputs": [],
   "source": [
    "X_train_processed = transform_data(X_train, scaler, encoder, continuous_features, categorical_features)"
   ]
  },
  {
   "cell_type": "code",
   "execution_count": 28,
   "id": "35e758e5",
   "metadata": {},
   "outputs": [],
   "source": [
    "model = train_model(X_train_processed, y_train)"
   ]
  },
  {
   "cell_type": "code",
   "execution_count": 29,
   "id": "db556576",
   "metadata": {},
   "outputs": [
    {
     "name": "stdout",
     "output_type": "stream",
     "text": [
      "Model RMSLE on test set: 0.4233\n"
     ]
    }
   ],
   "source": [
    "X_test_processed = transform_data(X_test, scaler, encoder, continuous_features, categorical_features)\n",
    "rmsle = evaluate_model(model, X_test_processed, y_test)\n",
    "print(f\"Model RMSLE on test set: {rmsle:.4f}\")"
   ]
  },
  {
   "cell_type": "code",
   "execution_count": 30,
   "id": "f1079f70",
   "metadata": {},
   "outputs": [
    {
     "name": "stderr",
     "output_type": "stream",
     "text": [
      "C:\\Users\\Acer\\miniconda3\\envs\\pw1\\lib\\site-packages\\sklearn\\preprocessing\\_encoders.py:170: UserWarning: Found unknown categories in columns [0] during transform. These unknown categories will be encoded as all zeros\n",
      "  warnings.warn(\n"
     ]
    }
   ],
   "source": [
    "X_new_processed = transform_data(test_df, scaler, encoder, continuous_features, categorical_features)\n",
    "predictions = predict_new_data(model, X_new_processed)"
   ]
  },
  {
   "cell_type": "code",
   "execution_count": 31,
   "id": "f3f5ad88",
   "metadata": {},
   "outputs": [],
   "source": [
    "submission = pd.DataFrame({\n",
    "    'Id': test_df['Id'],\n",
    "    'SalePrice': predictions\n",
    "})\n",
    "submission.to_csv('data/processed/submission.csv', index=False)"
   ]
  },
  {
   "cell_type": "code",
   "execution_count": null,
   "id": "459ac89e",
   "metadata": {},
   "outputs": [],
   "source": []
  }
 ],
 "metadata": {
  "kernelspec": {
   "display_name": "Python 3 (ipykernel)",
   "language": "python",
   "name": "python3"
  },
  "language_info": {
   "codemirror_mode": {
    "name": "ipython",
    "version": 3
   },
   "file_extension": ".py",
   "mimetype": "text/x-python",
   "name": "python",
   "nbconvert_exporter": "python",
   "pygments_lexer": "ipython3",
   "version": "3.9.12"
  }
 },
 "nbformat": 4,
 "nbformat_minor": 5
}
